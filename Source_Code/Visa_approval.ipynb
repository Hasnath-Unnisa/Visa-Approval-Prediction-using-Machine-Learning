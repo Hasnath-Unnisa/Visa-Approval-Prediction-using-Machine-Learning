{
 "cells": [
  {
   "cell_type": "markdown",
   "id": "c4e3b942-4d44-4dd6-852a-be6c9051983b",
   "metadata": {},
   "source": [
    "<span style=\"font-size:20px\">**Business Problem :The Office of Foreign Labor Certification (OFLC) handles visa applications for foreign workers. With increasing volume, manual processing is inefficient. This assignment aims to build a classification model that predicts whether a visa application is Certified or Denied, helping EasyVisa automate and enhance decision-making.**</span>\n",
    "\n"
   ]
  },
  {
   "cell_type": "code",
   "execution_count": null,
   "id": "242fc31d-b11e-42bd-b399-d0a1b0aa5e1c",
   "metadata": {},
   "outputs": [],
   "source": [
    "import pandas as pd\n",
    "import matplotlib.pyplot as plt\n",
    "import seaborn as sns\n",
    "import warnings\n",
    "warnings.filterwarnings('ignore')\n",
    "\n",
    "import numpy as np\n",
    "from scipy import stats\n",
    "\n",
    "# Load the dataset\n",
    "df = pd.read_csv(\"C:\\\\Users\\\\hasna\\\\Downloads\\\\EasyVisa.csv\")\n",
    "\n",
    "# View first few rows\n",
    "print(df.head())\n",
    "\n",
    "# Check data types and missing values\n",
    "print(df.info())\n",
    "\n",
    "# Summary statistics\n",
    "print(df.describe(include='all'))\n",
    "\n",
    "# Check basic structure\n",
    "print(\"Columns:\", df.columns)\n",
    "print(\"\\nFirst few values in case_status:\")\n",
    "print(df['case_status'].head(10))\n",
    "\n",
    "# Check for nulls\n",
    "print(\"\\nNull values in case_status:\", df['case_status'].isnull().sum())\n"
   ]
  },
  {
   "cell_type": "markdown",
   "id": "6253ee95-1bbd-4cfa-a36d-48f1128f969a",
   "metadata": {},
   "source": [
    "**Univariate Analysis**"
   ]
  },
  {
   "cell_type": "code",
   "execution_count": null,
   "id": "1b3d9818-2b42-4968-9d78-962ba7102323",
   "metadata": {},
   "outputs": [],
   "source": [
    "# Univariate Plots (Categorical Variables)\n",
    "# Set style\n",
    "sns.set(style=\"whitegrid\")\n",
    "plt.figure(figsize=(16, 12))\n",
    "\n",
    "# Categorical columns\n",
    "cat_cols = ['continent', 'education_of_employee', 'has_job_experience',\n",
    "            'requires_job_training', 'region_of_employment', \n",
    "            'unit_of_wage', 'full_time_position', 'case_status']\n",
    "\n",
    "# Plotting categorical variables\n",
    "for i, col in enumerate(cat_cols):\n",
    "    plt.subplot(3, 3, i + 1)\n",
    "    sns.countplot(data=df, x=col, order=df[col].value_counts().index, palette='viridis')\n",
    "    plt.title(f\"Count Plot of {col}\")\n",
    "    plt.xticks(rotation=45)\n",
    "\n",
    "plt.tight_layout()\n",
    "plt.show()"
   ]
  },
  {
   "cell_type": "code",
   "execution_count": null,
   "id": "afdef1a1-18b3-4b42-ad87-42603087cb7d",
   "metadata": {},
   "outputs": [],
   "source": [
    "#Univariate Plots (Numerical Variables)\n",
    "\n",
    "# Numerical columns\n",
    "num_cols = ['no_of_employees', 'yr_of_estab', 'prevailing_wage']\n",
    "\n",
    "# Histograms\n",
    "df[num_cols].hist(bins=30, figsize=(15, 5), color='teal', edgecolor='black')\n",
    "plt.suptitle('Distribution of Numerical Features', fontsize=16)\n",
    "plt.tight_layout()\n",
    "plt.show()\n"
   ]
  },
  {
   "cell_type": "markdown",
   "id": "53645272-ca04-4850-b949-e13afd5cc821",
   "metadata": {},
   "source": [
    "**Univariate Observations**\n",
    "\n",
    "- **continent**: Majority of the visa applications are from **Asia**, indicating a strong interest in U.S. employment from this region.\n",
    "- **education_of_employee**: Most applicants have either a **Bachelor’s** or **Master’s** degree, suggesting a relatively well-educated applicant pool.\n",
    "- **has_job_experience**: Majority of the applicants have **prior job experience**, which may positively influence approval chances.\n",
    "- **requires_job_training**: Most roles **do not require job training**, indicating that employers seek already skilled candidates.\n",
    "- **region_of_employment**: Most jobs are located in **Northeast** and **West** U.S. regions, possibly due to economic or tech hubs.\n",
    "- **unit_of_wage**: The dominant wage unit is **Yearly**, which makes wage comparisons straightforward.\n",
    "- **full_time_position**: Most positions are **full-time**, which is often a favorable factor in visa approval.\n",
    "- **case_status**: The dataset is **imbalanced** – around **66% Certified** vs. **34% Denied** applications. This needs to be addressed in modeling.\n",
    "- **no_of_employees**: Right-skewed — a few companies have very large employee counts; may contain outliers.\n",
    "- **yr_of_estab**: Some companies were established very early (as far back as 1800); possible data quality issues.\n",
    "- **prevailing_wage**: Highly right-skewed, with a few very high-paying jobs — may benefit from log transformation.\n"
   ]
  },
  {
   "cell_type": "markdown",
   "id": "3f209753-aedb-4b01-b101-8df678e737c7",
   "metadata": {},
   "source": [
    "**Bivariate Analysis**"
   ]
  },
  {
   "cell_type": "code",
   "execution_count": null,
   "id": "37a5c7b2-15e7-41f2-b2ff-60df2ca18881",
   "metadata": {},
   "outputs": [],
   "source": [
    "# Bivariate analysis: Categorical vs Target\n",
    "#categorical features vs. case_status\n",
    "\n",
    "cat_cols = ['continent', 'education_of_employee', 'has_job_experience',\n",
    "            'requires_job_training', 'unit_of_wage', 'region_of_employment', 'full_time_position']\n",
    "\n",
    "plt.figure(figsize=(15, 10))\n",
    "for i, col in enumerate(cat_cols):\n",
    "    plt.subplot(4, 2, i + 1)\n",
    "    sns.countplot(data=df, x=col, hue='case_status', palette='pastel')\n",
    "    plt.title(f\"{col} vs Case Status\")\n",
    "    plt.xticks(rotation=45)\n",
    "\n",
    "plt.tight_layout()\n",
    "plt.show()"
   ]
  },
  {
   "cell_type": "code",
   "execution_count": null,
   "id": "509cdeac-29ba-49c6-bb50-ee70fad8d1e2",
   "metadata": {},
   "outputs": [],
   "source": [
    "#For Numerical Variable (prevailing_wage)\n",
    "\n",
    "plt.figure(figsize=(8, 4))\n",
    "sns.boxplot(data=df, x='case_status', y='prevailing_wage', palette='Set2')\n",
    "plt.title(\"Prevailing Wage vs Case Status\")\n",
    "plt.yscale(\"log\")  # Since wages are skewed\n",
    "plt.show()"
   ]
  },
  {
   "cell_type": "markdown",
   "id": "f09352a6-09d0-457d-9ba8-fa876f07ad5b",
   "metadata": {},
   "source": [
    "**Bivariate Analysis Observations**\n",
    "\n",
    "- **Education**: Applicants with **Master’s and Bachelor’s** degrees have higher chances of certification, while **High School** and **No Education** levels see more denials.\n",
    "- **Job Experience**: Applicants with **prior job experience (`Y`)** are more frequently certified than those without.\n",
    "- **Requires Job Training**: Those **not requiring training** are more likely to be approved.\n",
    "- **Continent**: Applicants from **Asia** dominate and have a high certification rate, but **Africa** and **South America** show relatively higher denial rates.\n",
    "- **Unit of Wage**: Most applications use **Yearly** wages and show higher certification rates. **Hourly/Weekly** wage cases see more denials.\n",
    "- **Full-time Position**: **Full-time roles** are strongly associated with higher certification.\n",
    "- **Region of Employment**: **Northeast and West** have more certified cases than other regions.\n",
    "- **Prevailing Wage**: Certified applications tend to offer **higher wages**. The wage range for denied applications is lower and more variable.\n",
    "\n",
    "These patterns indicate that higher education, experience, full-time positions, and competitive wages improve the chance of visa certification.\n"
   ]
  },
  {
   "cell_type": "markdown",
   "id": "03b8f8bd-2736-4f4c-b209-288926a7aed3",
   "metadata": {},
   "source": [
    "**Insight Generation**"
   ]
  },
  {
   "cell_type": "markdown",
   "id": "cbcabd2e-44d2-45ee-ada3-df3a74796f2b",
   "metadata": {},
   "source": [
    "**Summary of Key Insights from EDA**\n",
    "\n",
    "- The dataset has **no missing values**, but shows significant **class imbalance** in `case_status` (Certified ≈ 66%, Denied ≈ 34%).\n",
    "- Most applicants are from **Asia**, with a **Bachelor's or Master’s** degree, and have **prior work experience**.\n",
    "- A **large proportion of roles are full-time** and **don’t require training**, which are more likely to be certified.\n",
    "- The **prevailing wage** distribution is heavily **right-skewed**; certified applications generally offer higher wages.\n",
    "- **Northeast and West** are the dominant regions for employment, with relatively higher certification rates.\n",
    "- Variables like `education`, `experience`, `unit_of_wage`, and `continent` show strong relationships with visa outcomes and will likely be important predictors in modeling.\n"
   ]
  },
  {
   "cell_type": "markdown",
   "id": "ed34c112-8b7b-4acd-8fff-41f8871c9b7d",
   "metadata": {},
   "source": [
    "**EDA Questions – Visualizations + Explanations**"
   ]
  },
  {
   "cell_type": "markdown",
   "id": "714a37cb-5f34-4cb5-b820-9d34c2fdd051",
   "metadata": {},
   "source": [
    "**Feature-Outcome Relationships**\n",
    "\n",
    "**1. Does education level affect visa status?**  \n",
    "Yes. Applicants with **higher education levels (Master’s, Bachelor’s)** are more likely to be certified, while **lower education** levels correspond to higher denial rates.\n",
    "\n",
    "**2. How does job experience influence approval?**  \n",
    "Applicants with **job experience (`Y`)** are significantly more likely to be certified. Lack of experience is a strong signal for denial.\n",
    "\n",
    "**3. Do training requirements impact certification?**  \n",
    "Yes. Applications that **require job training** have a **lower likelihood of being certified**, indicating preference for job-ready candidates.\n",
    "\n",
    "**4. Are there continent-wise differences in approval rates?**  \n",
    "Yes. **Asia** sees a high number of applications and certification success. **Africa and South America** show lower certification rates comparatively.\n",
    "\n",
    "**5. What is the relationship between wage and approval?**  \n",
    "**Higher prevailing wages** are associated with certified applications. Denied cases often offer lower or inconsistent wages.\n",
    "\n",
    "These insights suggest that education, experience, full-time roles, high wages, and certain regions/continents **positively influence** visa approval.\n"
   ]
  },
  {
   "cell_type": "code",
   "execution_count": null,
   "id": "f16e3eab-a4c2-4b72-971e-2637a4405f79",
   "metadata": {},
   "outputs": [],
   "source": [
    "#1. Education vs Case Status\n",
    "\n",
    "plt.figure(figsize=(4, 2))\n",
    "sns.countplot(data=df, x='education_of_employee', hue='case_status', palette='pastel')\n",
    "plt.title(\"Visa Status by Education Level\")\n",
    "plt.xticks(rotation=45)\n",
    "plt.show()\n"
   ]
  },
  {
   "cell_type": "markdown",
   "id": "77e9be08-5936-4b03-aabb-62509a205686",
   "metadata": {},
   "source": [
    "**Insight**\n",
    "  \n",
    "Higher education (Bachelor's, Master's) leads to higher certification rates. High school and no education are more often denied."
   ]
  },
  {
   "cell_type": "code",
   "execution_count": null,
   "id": "f06e02ee-1e3d-483a-82d3-098cb6c62de6",
   "metadata": {},
   "outputs": [],
   "source": [
    "#2. Job Experience vs Case Status\n",
    "plt.figure(figsize=(4, 2))\n",
    "sns.countplot(data=df, x='has_job_experience', hue='case_status', palette='pastel')\n",
    "plt.title(\"Visa Status by Job Experience\")\n",
    "plt.show()\n"
   ]
  },
  {
   "cell_type": "markdown",
   "id": "70b72cc9-55ce-4274-81a4-3ab640337fc2",
   "metadata": {},
   "source": [
    "**Insight:**\n",
    "Applicants with experience (Y) are far more likely to be certified than those without (N)."
   ]
  },
  {
   "cell_type": "code",
   "execution_count": null,
   "id": "3ab6fe40-8d1c-4b39-b121-ba37055bc6d4",
   "metadata": {},
   "outputs": [],
   "source": [
    " #3. Requires Job Training vs Case Status\n",
    "plt.figure(figsize=(4, 2))\n",
    "sns.countplot(data=df, x='requires_job_training', hue='case_status', palette='pastel')\n",
    "plt.title(\"Visa Status by Job Training Requirement\")\n",
    "plt.show()\n"
   ]
  },
  {
   "cell_type": "markdown",
   "id": "7f8a3758-14fa-4f6b-a20f-b73e56aa391d",
   "metadata": {},
   "source": [
    "**Insight:**\n",
    "Applicants not requiring training (N) are more often certified likely because they are immediately employable."
   ]
  },
  {
   "cell_type": "code",
   "execution_count": 67,
   "id": "c1ab0b43-dc0f-489b-8be5-8166df705d78",
   "metadata": {},
   "outputs": [
    {
     "data": {
      "image/png": "[encoded data removed]",
      "text/plain": [
       "<Figure size 400x200 with 1 Axes>"
      ]
     },
     "metadata": {},
     "output_type": "display_data"
    }
   ],
   "source": [
    "#4. Continent vs Case Status\n",
    "\n",
    "plt.figure(figsize=(4, 2))\n",
    "sns.countplot(data=df, x='continent', hue='case_status', palette='pastel')\n",
    "plt.title(\"Visa Status by Applicant Continent\")\n",
    "plt.xticks(rotation=45)\n",
    "plt.show()\n"
   ]
  },
  {
   "cell_type": "markdown",
   "id": "3d6fd513-1dfc-4fc7-a447-36ee917ca0b0",
   "metadata": {},
   "source": [
    "**Insight:**\n",
    "Asia dominates in applications and certifications. Africa and South America show relatively higher denial ratios."
   ]
  },
  {
   "cell_type": "code",
   "execution_count": 70,
   "id": "b3b81288-352d-4816-bb30-f63f2f10ded3",
   "metadata": {},
   "outputs": [
    {
     "data": {
      "image/png": "[encoded data removed]",
      "text/plain": [
       "<Figure size 400x200 with 1 Axes>"
      ]
     },
     "metadata": {},
     "output_type": "display_data"
    }
   ],
   "source": [
    "#5. Prevailing Wage vs Case Status (Box Plot)\n",
    "\n",
    "plt.figure(figsize=(4, 2))\n",
    "sns.boxplot(data=df, x='case_status', y='prevailing_wage', palette='Set2')\n",
    "plt.yscale(\"log\")  # Because of skewness\n",
    "plt.title(\"Prevailing Wage by Case Status (log scale)\")\n",
    "plt.show()\n"
   ]
  },
  {
   "cell_type": "markdown",
   "id": "c1757b04-956e-4bb5-a5d4-616b9d45f23e",
   "metadata": {},
   "source": [
    "**Insight:**\n",
    "Certified applications tend to offer higher wages. Denied cases show lower and more variable wages."
   ]
  },
  {
   "cell_type": "markdown",
   "id": "72f7d00e-4adb-4a13-ae87-afb1b82f69f2",
   "metadata": {},
   "source": [
    "**Data Preprocessing**"
   ]
  },
  {
   "cell_type": "code",
   "execution_count": 6,
   "id": "128c4792-59f4-4601-b805-b73d8488c45f",
   "metadata": {},
   "outputs": [
    {
     "data": {
      "text/plain": [
       "Series([], dtype: int64)"
      ]
     },
     "execution_count": 6,
     "metadata": {},
     "output_type": "execute_result"
    }
   ],
   "source": [
    "# Check for missing values\n",
    "missing = df.isnull().sum()\n",
    "missing[missing > 0]\n"
   ]
  },
  {
   "cell_type": "markdown",
   "id": "812a9d09-1ec7-440a-a0fb-2e96981e3173",
   "metadata": {},
   "source": [
    "Missing Values\n",
    "\n",
    "- No missing values detected in the dataset (`.isnull().sum()` returns 0 for all columns).\n",
    "- Hence, **no imputation or deletion** was necessary at this stage."
   ]
  },
  {
   "cell_type": "code",
   "execution_count": 133,
   "id": "e5a85d26-178a-42df-be50-13dcafff422b",
   "metadata": {},
   "outputs": [
    {
     "name": "stdout",
     "output_type": "stream",
     "text": [
      "✅ Rows after target cleanup: 25480\n",
      "✅ Target class distribution:\n",
      " case_status\n",
      "1    17018\n",
      "0     8462\n",
      "Name: count, dtype: int64\n"
     ]
    }
   ],
   "source": [
    "#Target cleanup and binary encoding\n",
    "\n",
    "#STEP 1: Clean target column\n",
    "# Fix formatting: strip spaces and lowercase for consistency\n",
    "df['case_status'] = df['case_status'].astype(str).str.strip().str.lower()\n",
    "\n",
    "# Keep only rows with valid case_status values\n",
    "df = df[df['case_status'].isin(['certified', 'denied'])]\n",
    "\n",
    "# Map target to binary (1 = certified, 0 = denied)\n",
    "df['case_status'] = df['case_status'].map({'certified': 1, 'denied': 0})\n",
    "\n",
    "# Check remaining rows\n",
    "print(\"✅ Rows after target cleanup:\", df.shape[0])\n",
    "print(\"✅ Target class distribution:\\n\", df['case_status'].value_counts())\n",
    "\n",
    "# If no rows, stop execution\n",
    "if df.shape[0] == 0:\n",
    "    raise ValueError(\"⚠️ No valid rows remaining after target cleanup.\")\n"
   ]
  },
  {
   "cell_type": "markdown",
   "id": "e69000d9-4958-4265-9914-c0407a160ffe",
   "metadata": {},
   "source": [
    "**Missing Values and Target Preparation**\n",
    "\n",
    "- The `case_status` column contained values with inconsistent casing and whitespace (e.g., `' Certified'`, `'denied '`).\n",
    "- These were cleaned using `.str.strip().str.lower()` to ensure uniform labels.\n",
    "- Only rows with valid `case_status` values ('certified', 'denied') were retained.\n",
    "- The cleaned target variable was then mapped to binary values for classification:\n",
    "  - `'certified'` → 1\n",
    "  - `'denied'` → 0\n",
    "- This transformation is essential for enabling machine learning models to interpret the target variable numerically.\n",
    "- No missing values were found in the cleaned dataset after filtering.\n"
   ]
  },
  {
   "cell_type": "code",
   "execution_count": 149,
   "id": "baf50d5a-e482-4723-a5ce-4cb69ef878b1",
   "metadata": {},
   "outputs": [
    {
     "data": {
      "image/png": "[encoded data removed]",
      "text/plain": [
       "<Figure size 1600x400 with 3 Axes>"
      ]
     },
     "metadata": {},
     "output_type": "display_data"
    }
   ],
   "source": [
    "#Outlier Detection\n",
    "#numeric columns: no_of_employees, yr_of_estab, prevailing_wage\n",
    "\n",
    "# Select numerical columns for outlier detection\n",
    "num_cols = ['no_of_employees', 'adjusted_wage', 'company_age']\n",
    "\n",
    "# Boxplot visualization\n",
    "plt.figure(figsize=(16, 4))\n",
    "for i, col in enumerate(num_cols):\n",
    "    plt.subplot(1, 3, i+1)\n",
    "    sns.boxplot(x=df[col], color='skyblue')\n",
    "    plt.title(f'Boxplot of {col}')\n",
    "    plt.tight_layout()\n",
    "plt.show()\n"
   ]
  },
  {
   "cell_type": "code",
   "execution_count": 151,
   "id": "6edc720c-7a5f-49a7-b2ac-699430127805",
   "metadata": {},
   "outputs": [
    {
     "name": "stdout",
     "output_type": "stream",
     "text": [
      "✅ Removed outliers from 'no_of_employees': 1556 rows dropped.\n",
      "✅ Removed outliers from 'adjusted_wage': 2250 rows dropped.\n"
     ]
    }
   ],
   "source": [
    "#Remove Extreme Outliers Using IQR Method \n",
    "\n",
    "# Define a function to remove outliers using IQR\n",
    "def remove_outliers_iqr(data, column):\n",
    "    Q1 = data[column].quantile(0.25)\n",
    "    Q3 = data[column].quantile(0.75)\n",
    "    IQR = Q3 - Q1\n",
    "    lower_bound = Q1 - 1.5 * IQR\n",
    "    upper_bound = Q3 + 1.5 * IQR\n",
    "    return data[(data[column] >= lower_bound) & (data[column] <= upper_bound)]\n",
    "\n",
    "# Apply outlier removal\n",
    "for col in ['no_of_employees', 'adjusted_wage']:\n",
    "    original_shape = df.shape\n",
    "    df = remove_outliers_iqr(df, col)\n",
    "    print(f\"✅ Removed outliers from '{col}': {original_shape[0] - df.shape[0]} rows dropped.\")\n"
   ]
  },
  {
   "cell_type": "markdown",
   "id": "692d9a68-369e-4a02-a43e-d0c7fb8a68d1",
   "metadata": {},
   "source": [
    "**Outlier Detection and Treatment**\n",
    "\n",
    "- Outliers were detected using **boxplots** on numerical features such as `no_of_employees`, `adjusted_wage`, and `company_age`.\n",
    "- The **IQR method** was used to identify and remove extreme outliers:\n",
    "  - Any value lying outside 1.5 × IQR from Q1 and Q3 was considered an outlier.\n",
    "- `no_of_employees` and `adjusted_wage` showed significant right-skewed distributions, with a small number of extreme values.\n",
    "- Outlier removal helped reduce the influence of extreme data points and improve model robustness.\n",
    "- `company_age` was retained as-is, since extreme values (like older companies) are still realistic.\n",
    "\n",
    "\n"
   ]
  },
  {
   "cell_type": "markdown",
   "id": "5a28fa93-520f-4d44-bf9d-231e166f7f12",
   "metadata": {},
   "source": [
    "**Feature Engineering**"
   ]
  },
  {
   "cell_type": "code",
   "execution_count": 139,
   "id": "6a9c1f38-2bc4-489d-868c-d112fa4614e3",
   "metadata": {},
   "outputs": [
    {
     "name": "stdout",
     "output_type": "stream",
     "text": [
      "✅ Final shape before split: (25480, 18)\n"
     ]
    }
   ],
   "source": [
    "import pandas as pd\n",
    "\n",
    "#Feature Engineering\n",
    "\n",
    "# Adjust wage using unit_of_wage (if both columns are available)\n",
    "if 'prevailing_wage' in df.columns and 'unit_of_wage' in df.columns:\n",
    "    conversion_dict = {'hour': 2080, 'week': 52, 'month': 12, 'year': 1}\n",
    "    df['unit_of_wage'] = df['unit_of_wage'].astype(str).str.strip().str.lower()\n",
    "    df['adjusted_wage'] = df['prevailing_wage'] * df['unit_of_wage'].map(conversion_dict)\n",
    "    df.drop(['prevailing_wage', 'unit_of_wage'], axis=1, inplace=True)\n",
    "else:\n",
    "    df['adjusted_wage'] = 0\n",
    "\n",
    "# Create company age from yr_of_estab (if available)\n",
    "if 'yr_of_estab' in df.columns:\n",
    "    df['company_age'] = 2025 - df['yr_of_estab']\n",
    "    df.drop('yr_of_estab', axis=1, inplace=True)\n",
    "else:\n",
    "    df['company_age'] = 0\n",
    "\n",
    "# Drop case_id if present\n",
    "df.drop(columns=[col for col in ['case_id'] if col in df.columns], inplace=True)\n",
    "\n",
    "# One-hot encode all categorical variables\n",
    "df_encoded = pd.get_dummies(df, drop_first=True)\n",
    "\n",
    "# ========== STEP 3: Split features and target ==========\n",
    "X = df_encoded.drop('case_status', axis=1)\n",
    "y = df_encoded['case_status']\n",
    "\n",
    "# Confirm before splitting\n",
    "print(\"✅ Final shape before split:\", X.shape)\n"
   ]
  },
  {
   "cell_type": "markdown",
   "id": "414e1e8d-b8da-4737-83ef-a23965d4bece",
   "metadata": {},
   "source": [
    "**Feature Engineering Summary**\n",
    "\n",
    "- Converted `prevailing_wage` to a normalized annual equivalent using `unit_of_wage`, stored in `adjusted_wage`.\n",
    "- Created `company_age` from the difference between 2025 and `yr_of_estab`.\n",
    "- Removed irrelevant or redundant columns such as `case_id`, `unit_of_wage`, and `yr_of_estab`.\n",
    "- One-hot encoded all remaining categorical features using `pd.get_dummies()`.\n",
    "- Separated features (`X`) and target (`y`) for modeling.\n"
   ]
  },
  {
   "cell_type": "markdown",
   "id": "37ffbe08-151c-4c48-900f-1ba74217a2e4",
   "metadata": {},
   "source": [
    "**Train-Test Split**"
   ]
  },
  {
   "cell_type": "code",
   "execution_count": 141,
   "id": "79d016df-a865-469b-a0a2-26dffe6eba19",
   "metadata": {},
   "outputs": [
    {
     "name": "stdout",
     "output_type": "stream",
     "text": [
      "✅ Train shape: (20384, 19)\n",
      "✅ Test shape: (5096, 19)\n"
     ]
    }
   ],
   "source": [
    "from sklearn.model_selection import train_test_split\n",
    "\n",
    "# Step 1: Define features and target\n",
    "X = df_encoded.drop('case_status', axis=1)\n",
    "y = df_encoded['case_status']\n",
    "\n",
    "# Step 2: Stratified train-test split\n",
    "X_train, X_test, y_train, y_test = train_test_split(\n",
    "    X, y, test_size=0.2, stratify=y, random_state=42\n",
    ")\n",
    "\n",
    "# Step 3: Combine into train/test DataFrames if needed\n",
    "train_data = pd.concat([X_train, y_train], axis=1)\n",
    "test_data = pd.concat([X_test, y_test], axis=1)\n",
    "\n",
    "# Step 4: Check the result\n",
    "print(\"✅ Train shape:\", train_data.shape)\n",
    "print(\"✅ Test shape:\", test_data.shape)"
   ]
  },
  {
   "cell_type": "markdown",
   "id": "60fc8ad5-debf-4abe-b6ba-255d91c08788",
   "metadata": {},
   "source": [
    "Train-Test Split\n",
    "\n",
    "- After completing data preprocessing and feature engineering, the dataset was split into:\n",
    "  - **Features (`X`)**: 18 independent variables\n",
    "  - **Target (`y`)**: `case_status` (binary: 1 for Certified, 0 for Denied)\n",
    "- An **80:20 split** was performed using `train_test_split()` from scikit-learn:\n",
    "  - **Training set**: 20,384 records (80%)\n",
    "  - **Testing set**: 5,096 records (20%)\n",
    "- The split was **stratified** by the target variable to ensure that both subsets preserved the original class distribution (Certified vs Denied).\n",
    "- `random_state=42` was used to ensure reproducibility of the split.\n",
    "\n",
    "This setup helps ensure reliable model training and fair evaluation of model generalization performance.\n"
   ]
  },
  {
   "cell_type": "markdown",
   "id": "3d2a50e4-b227-45be-b0bd-b7564015fd14",
   "metadata": {},
   "source": [
    "**Model Building - Bagging**"
   ]
  },
  {
   "cell_type": "code",
   "execution_count": 155,
   "id": "cac22f0a-f20d-4578-8514-b6e2bbc332ea",
   "metadata": {},
   "outputs": [
    {
     "name": "stdout",
     "output_type": "stream",
     "text": [
      "\n",
      "🔍 Evaluation Metrics for Decision Tree:\n",
      "Accuracy : 0.6530612244897959\n",
      "Precision: 0.7438878950506858\n",
      "Recall   : 0.7329612220916569\n",
      "F1-Score : 0.7383841373187333\n",
      "Classification Report:\n",
      "               precision    recall  f1-score   support\n",
      "\n",
      "           0       0.48      0.49      0.49      1692\n",
      "           1       0.74      0.73      0.74      3404\n",
      "\n",
      "    accuracy                           0.65      5096\n",
      "   macro avg       0.61      0.61      0.61      5096\n",
      "weighted avg       0.66      0.65      0.65      5096\n",
      "\n",
      "\n",
      "🔍 Evaluation Metrics for Bagging Classifier:\n",
      "Accuracy : 0.7121271585557299\n",
      "Precision: 0.7632508833922261\n",
      "Recall   : 0.8249118683901293\n",
      "F1-Score : 0.7928843710292249\n",
      "Classification Report:\n",
      "               precision    recall  f1-score   support\n",
      "\n",
      "           0       0.58      0.49      0.53      1692\n",
      "           1       0.76      0.82      0.79      3404\n",
      "\n",
      "    accuracy                           0.71      5096\n",
      "   macro avg       0.67      0.66      0.66      5096\n",
      "weighted avg       0.70      0.71      0.70      5096\n",
      "\n",
      "\n",
      "🔍 Evaluation Metrics for Random Forest:\n",
      "Accuracy : 0.7189952904238619\n",
      "Precision: 0.7676438653637351\n",
      "Recall   : 0.8307873090481787\n",
      "F1-Score : 0.7979683972911964\n",
      "Classification Report:\n",
      "               precision    recall  f1-score   support\n",
      "\n",
      "           0       0.59      0.49      0.54      1692\n",
      "           1       0.77      0.83      0.80      3404\n",
      "\n",
      "    accuracy                           0.72      5096\n",
      "   macro avg       0.68      0.66      0.67      5096\n",
      "weighted avg       0.71      0.72      0.71      5096\n",
      "\n"
     ]
    }
   ],
   "source": [
    "from sklearn.tree import DecisionTreeClassifier\n",
    "from sklearn.ensemble import BaggingClassifier, RandomForestClassifier\n",
    "from sklearn.metrics import accuracy_score, precision_score, recall_score, f1_score, classification_report\n",
    "\n",
    "# function to train and evaluate models\n",
    "def evaluate_model(model, model_name):\n",
    "    model.fit(X_train, y_train)\n",
    "    y_pred = model.predict(X_test)\n",
    "\n",
    "    print(f\"\\n🔍 Evaluation Metrics for {model_name}:\")\n",
    "    print(\"Accuracy :\", accuracy_score(y_test, y_pred))\n",
    "    print(\"Precision:\", precision_score(y_test, y_pred))\n",
    "    print(\"Recall   :\", recall_score(y_test, y_pred))\n",
    "    print(\"F1-Score :\", f1_score(y_test, y_pred))\n",
    "    print(\"Classification Report:\\n\", classification_report(y_test, y_pred))\n",
    "\n",
    "# 1. Decision Tree\n",
    "dt_model = DecisionTreeClassifier(random_state=42)\n",
    "evaluate_model(dt_model, \"Decision Tree\")\n",
    "\n",
    "# 2. Bagging Classifier\n",
    "bag_model = BaggingClassifier(estimator=DecisionTreeClassifier(), n_estimators=100, random_state=42)\n",
    "evaluate_model(bag_model, \"Bagging Classifier\")\n",
    "\n",
    "# 3. Random Forest\n",
    "rf_model = RandomForestClassifier(n_estimators=100, random_state=42)\n",
    "evaluate_model(rf_model, \"Random Forest\")"
   ]
  },
  {
   "cell_type": "markdown",
   "id": "01883ca1-6af6-4c63-9fe6-b261eb325eb3",
   "metadata": {},
   "source": [
    "**Observations ,Comparison and Evalutaion**\n",
    "\n",
    "**Model Building – Decision Tree, Bagging, and Random Forest**\n",
    "\n",
    "Three models were developed using the training data:\n",
    "\n",
    "1. **Decision Tree Classifier** – a basic interpretable model.\n",
    "2. **Bagging Classifier** – an ensemble of decision trees using bootstrap aggregation.\n",
    "3. **Random Forest Classifier** – an advanced ensemble model using bagging and random feature selection.\n",
    "\n",
    "Each model was evaluated on unseen test data using key classification metrics: accuracy, precision, recall, and F1-score.\n",
    "\n",
    "Comparison of Models\n",
    "\n",
    "| Model             | Accuracy | Precision | Recall | F1-Score |\n",
    "|------------------|----------|-----------|--------|----------|\n",
    "| Decision Tree     | 65.3%    | 74.4%     | 73.3%  | 73.8%    |\n",
    "| Bagging Classifier| 71.2%    | 76.3%     | 82.5%  | 79.3%    |\n",
    "| Random Forest     | **71.9%**| **76.8%** | **83.1%**| **80.0%** |\n",
    "\n",
    "- The **Random Forest model** performed the best across all metrics.\n",
    "- **Bagging** improved generalization significantly compared to a single decision tree.\n",
    "- The **Decision Tree** was the weakest performer, likely due to overfitting and lack of ensemble strength.\n",
    "- Random Forest is chosen as the **final model** due to its balance between **accuracy and robustness**.\n",
    "\n"
   ]
  },
  {
   "cell_type": "markdown",
   "id": "50743e33-941c-4e9f-b9ff-de1f08b39cbe",
   "metadata": {},
   "source": [
    "**Recommended Metrics & Justification**\n",
    "\n",
    "Evaluation Metric Selection and Justification\n",
    "\n",
    "Since this is a binary classification problem with **class imbalance**, relying on accuracy alone may be misleading. Therefore, the following metrics were selected:\n",
    "\n",
    "- **Precision**: Indicates how many applications predicted as \"Certified\" were actually certified. Important when minimizing false positives (e.g., wrongly approving an unqualified application).\n",
    "  \n",
    "- **Recall**: Measures how many actual Certified applications were correctly identified. Important when we care about **not missing eligible applicants** (i.e., reducing false negatives).\n",
    "  \n",
    "- **F1-Score**: The harmonic mean of precision and recall. This is especially useful when there's a trade-off between false positives and false negatives.\n",
    "\n",
    "- **AUC-ROC Score**: Measures the model’s ability to distinguish between the classes across all thresholds. A higher AUC indicates better separability between Certified and Denied cases.\n",
    "\n",
    "These metrics provide a more complete and fair evaluation of the model's performance under imbalanced class conditions.\n"
   ]
  },
  {
   "cell_type": "markdown",
   "id": "bb5e28ce-de36-4db0-bfcb-a552c1e1d4a4",
   "metadata": {},
   "source": [
    "**Feature Importance & Model Behavior**"
   ]
  },
  {
   "cell_type": "code",
   "execution_count": 168,
   "id": "5ff0d088-9ad0-4d91-a8e3-8f28eb6fdb7b",
   "metadata": {},
   "outputs": [
    {
     "data": {
      "image/png": "[encoded data removed]",
      "text/plain": [
       "<Figure size 800x400 with 1 Axes>"
      ]
     },
     "metadata": {},
     "output_type": "display_data"
    }
   ],
   "source": [
    "\n",
    "# Get feature importances from the trained Random Forest model\n",
    "importances = rf_model.feature_importances_\n",
    "features = X_train.columns\n",
    "importance_df = pd.DataFrame({'Feature': features, 'Importance': importances})\n",
    "\n",
    "# Sort by importance\n",
    "importance_df = importance_df.sort_values(by='Importance', ascending=False)\n",
    "\n",
    "# Plot top 10\n",
    "plt.figure(figsize=(8, 4))\n",
    "sns.barplot(x='Importance', y='Feature', data=importance_df.head(10), palette='viridis')\n",
    "plt.title('Top 10 Important Features – Random Forest')\n",
    "plt.xlabel('Feature Importance Score')\n",
    "plt.ylabel('Features')\n",
    "plt.tight_layout()\n",
    "plt.show()\n"
   ]
  },
  {
   "cell_type": "markdown",
   "id": "bc6fdbfa-4620-4c71-8e97-8b3500cf1f32",
   "metadata": {},
   "source": [
    "**Interpret Feature Importance and Model Behavior**\n",
    "\n",
    "The **Random Forest model** was used to identify which features contributed the most to predicting visa approval outcomes.\n",
    "\n",
    "#### Top Features by Importance:\n",
    "1. **adjusted_wage** – Higher wages increase the likelihood of certification.\n",
    "2. **no_of_employees** – Larger companies may have better visa approval rates.\n",
    "3. **company_age** – Older/more established companies tend to get more certified cases.\n",
    "4. **full_time_position_Y** – Full-time jobs have a higher chance of approval.\n",
    "5. **education_of_employee_Master's** – Advanced education levels correlate with more certifications.\n",
    "6. **region_of_employment_Northeast** – Region plays a role, possibly due to economic or regulatory differences.\n",
    "\n",
    "#### Model Behavior:\n",
    "- The model places **strong emphasis on salary and job nature** (full-time, wage offered).\n",
    "- It also captures **institutional strength** (company size, age) and **employee qualifications** (education).\n",
    "- The use of categorical variables like region and education through one-hot encoding has been successful in helping the model differentiate between scenarios.\n",
    "\n",
    "Overall, the model appears to make decisions aligned with **real-world expectations**, favoring well-paying, full-time roles in large and experienced companies — especially when the candidate is well-qualified.\n"
   ]
  },
  {
   "cell_type": "markdown",
   "id": "2e6fab8f-b2a1-4216-9c88-634f00d227e0",
   "metadata": {},
   "source": [
    "**Hyperparameter Tuning for Decision Tree, Bagging, and Random Forest**"
   ]
  },
  {
   "cell_type": "code",
   "execution_count": 201,
   "id": "7c74807d-8957-4fb4-ae30-1d7ac106f61d",
   "metadata": {},
   "outputs": [
    {
     "name": "stdout",
     "output_type": "stream",
     "text": [
      "Fitting 2 folds for each of 12 candidates, totalling 24 fits\n",
      "✅ Best Decision Tree Params: {'criterion': 'gini', 'max_depth': 3, 'min_samples_split': 2}\n"
     ]
    }
   ],
   "source": [
    "from sklearn.tree import DecisionTreeClassifier\n",
    "from sklearn.model_selection import GridSearchCV\n",
    "\n",
    "# Step 1: Set tuning parameters\n",
    "dt_params = {\n",
    "    'criterion': ['gini', 'entropy'],\n",
    "    'max_depth': [3, 5, 10],\n",
    "    'min_samples_split': [2, 5]\n",
    "}\n",
    "\n",
    "# Step 2: Grid search (with 2-fold CV to save time)\n",
    "grid_dt = GridSearchCV(\n",
    "    estimator=DecisionTreeClassifier(random_state=42),\n",
    "    param_grid=dt_params,\n",
    "    cv=2,\n",
    "    scoring='f1',\n",
    "    verbose=1\n",
    ")\n",
    "\n",
    "# Step 3: Fit the model\n",
    "grid_dt.fit(X_train, y_train)\n",
    "\n",
    "# Step 4: Best parameters\n",
    "print(\"✅ Best Decision Tree Params:\", grid_dt.best_params_)\n"
   ]
  },
  {
   "cell_type": "code",
   "execution_count": 197,
   "id": "78c313f6-1174-47c2-94cf-b9d79d6e6893",
   "metadata": {},
   "outputs": [
    {
     "name": "stdout",
     "output_type": "stream",
     "text": [
      "Fitting 2 folds for each of 1 candidates, totalling 2 fits\n",
      "✅ Best Bagging Params: {'max_features': 0.7, 'max_samples': 0.7, 'n_estimators': 10}\n"
     ]
    }
   ],
   "source": [
    "from sklearn.ensemble import BaggingClassifier\n",
    "from sklearn.tree import DecisionTreeClassifier\n",
    "from sklearn.model_selection import GridSearchCV\n",
    "import warnings\n",
    "warnings.filterwarnings('ignore')\n",
    "\n",
    "# Light parameter grid to avoid overloading\n",
    "bag_params = {\n",
    "    'n_estimators': [10],\n",
    "    'max_samples': [0.7],\n",
    "    'max_features': [0.7]\n",
    "}\n",
    "\n",
    "# ✅ Use 'estimator' for sklearn >= 1.2\n",
    "grid_bag = GridSearchCV(\n",
    "    estimator=BaggingClassifier(estimator=DecisionTreeClassifier(), random_state=42),\n",
    "    param_grid=bag_params,\n",
    "    cv=2,  # Faster\n",
    "    scoring='f1',\n",
    "    verbose=1\n",
    ")\n",
    "\n",
    "grid_bag.fit(X_train, y_train)\n",
    "print(\"✅ Best Bagging Params:\", grid_bag.best_params_)\n"
   ]
  },
  {
   "cell_type": "code",
   "execution_count": 199,
   "id": "3516ab50-2370-4c7a-96c7-38a025b38a47",
   "metadata": {},
   "outputs": [
    {
     "name": "stdout",
     "output_type": "stream",
     "text": [
      "Fitting 2 folds for each of 1 candidates, totalling 2 fits\n",
      "✅ Best Random Forest Params: {'max_depth': 10, 'max_features': 'sqrt', 'min_samples_split': 2, 'n_estimators': 50}\n"
     ]
    }
   ],
   "source": [
    "from sklearn.ensemble import RandomForestClassifier\n",
    "\n",
    "rf_params = {\n",
    "    'n_estimators': [50],\n",
    "    'max_depth': [10],\n",
    "    'min_samples_split': [2],\n",
    "    'max_features': ['sqrt']\n",
    "}\n",
    "\n",
    "grid_rf = GridSearchCV(\n",
    "    estimator=RandomForestClassifier(random_state=42),\n",
    "    param_grid=rf_params,\n",
    "    cv=2,\n",
    "    scoring='f1',\n",
    "    verbose=1\n",
    ")\n",
    "\n",
    "grid_rf.fit(X_train, y_train)\n",
    "print(\"✅ Best Random Forest Params:\", grid_rf.best_params_)\n"
   ]
  },
  {
   "cell_type": "code",
   "execution_count": 203,
   "id": "3b1d1e1e-fa92-4061-9cf6-b567c21f28cf",
   "metadata": {},
   "outputs": [
    {
     "name": "stdout",
     "output_type": "stream",
     "text": [
      "\n",
      "🔍 Evaluation Metrics for Tuned Decision Tree:\n",
      "Accuracy : 0.7131083202511774\n",
      "Precision: 0.7154904571682201\n",
      "Recall   : 0.9471210340775558\n",
      "F1-Score : 0.8151706700379266\n",
      "Classification Report:\n",
      "               precision    recall  f1-score   support\n",
      "\n",
      "           0       0.69      0.24      0.36      1692\n",
      "           1       0.72      0.95      0.82      3404\n",
      "\n",
      "    accuracy                           0.71      5096\n",
      "   macro avg       0.71      0.59      0.59      5096\n",
      "weighted avg       0.71      0.71      0.66      5096\n",
      "\n"
     ]
    }
   ],
   "source": [
    "evaluate_model(grid_dt.best_estimator_, \"Tuned Decision Tree\")\n"
   ]
  },
  {
   "cell_type": "markdown",
   "id": "f17bd717-5143-450c-b8aa-d141a88a98e8",
   "metadata": {},
   "source": [
    "**Performance comparison for tuned models**\n",
    "\n",
    "Below is the evaluation of all three tuned models on the test set using Accuracy, Precision, Recall, and F1-Score.\n",
    "\n",
    "| Model               | Accuracy | Precision | Recall | F1-Score |\n",
    "|--------------------|----------|-----------|--------|----------|\n",
    "| **Decision Tree**   | 0.7131   | 0.7155    | 0.9471 | 0.8152   |\n",
    "| **Bagging Classifier** | 0.7121   | 0.7633    | 0.8249 | 0.7929   |\n",
    "| **Random Forest**   | 0.7190   | 0.7676    | 0.8308 | 0.7980   |\n",
    "\n",
    "### 🔍 Observations:\n",
    "\n",
    "- The **tuned Decision Tree** achieved the **highest recall (94.7%)**, meaning it correctly identified most certified applications, but its precision (71.5%) was slightly lower, indicating more false positives.\n",
    "- The **Bagging Classifier** improved overall balance, reducing variance and achieving solid F1-Score (0.7929).\n",
    "- **Random Forest** offered the **best trade-off** between precision and recall, resulting in the highest **F1-Score** among all (0.7980) and the highest **accuracy** (0.7190).\n",
    "\n",
    "### ✅ Conclusion:\n",
    "\n",
    "The **Random Forest model** performed best overall, offering strong generalization, balanced predictions, and robust metrics across the board.\n"
   ]
  },
  {
   "cell_type": "markdown",
   "id": "968e609f-1fe6-48c9-aeca-016e3d70ca08",
   "metadata": {},
   "source": [
    "**Insights from Hyperparameter Tuning**\n",
    "\n",
    "Effect of Hyperparameter Tuning on Model Performance\n",
    "\n",
    "Hyperparameter tuning improved the performance and generalization ability of all three models:\n",
    "\n",
    "- **Decision Tree**: Tuning restricted the tree’s depth to 3, reducing overfitting and improving recall significantly (up to 94.7%). This made it excellent at detecting positive cases, though with slightly more false positives.\n",
    "\n",
    "- **Bagging Classifier**: Tuning `n_estimators`, `max_samples`, and `max_features` helped balance variance and bias. It improved the model’s overall F1-score compared to the untuned version, showing better generalization on unseen data.\n",
    "\n",
    "- **Random Forest**: Showed the most robust improvement. With tuned parameters like `max_depth = 10` and `max_features = 'sqrt'`, it achieved the highest F1-score (0.798) and best trade-off between precision and recall.\n",
    "\n",
    "### ✅ Conclusion:\n",
    "\n",
    "Hyperparameter tuning was essential for improving model performance. It helped prevent overfitting in Decision Trees, reduced variance in ensemble models, and overall increased predictive reliability.\n"
   ]
  },
  {
   "cell_type": "markdown",
   "id": "81cbb426-4d03-4aeb-8bab-c4d1c6e9ba6e",
   "metadata": {},
   "source": [
    "**Model Building & Improvement - Boosting**"
   ]
  },
  {
   "cell_type": "code",
   "execution_count": 209,
   "id": "709686ed-9b57-4d77-a688-15a2b59e3541",
   "metadata": {},
   "outputs": [
    {
     "name": "stdout",
     "output_type": "stream",
     "text": [
      "\n",
      "🔍 Evaluation Metrics for AdaBoost:\n",
      "Accuracy : 0.7205651491365777\n",
      "Precision: 0.7494959677419355\n",
      "Recall   : 0.8736780258519389\n",
      "F1-Score : 0.806836679327184\n",
      "Classification Report:\n",
      "               precision    recall  f1-score   support\n",
      "\n",
      "           0       0.62      0.41      0.50      1692\n",
      "           1       0.75      0.87      0.81      3404\n",
      "\n",
      "    accuracy                           0.72      5096\n",
      "   macro avg       0.68      0.64      0.65      5096\n",
      "weighted avg       0.71      0.72      0.70      5096\n",
      "\n",
      "\n",
      "🔍 Evaluation Metrics for Gradient Boosting:\n",
      "Accuracy : 0.7368524332810047\n",
      "Precision: 0.766882276843467\n",
      "Recall   : 0.8707403055229143\n",
      "F1-Score : 0.8155179529508874\n",
      "Classification Report:\n",
      "               precision    recall  f1-score   support\n",
      "\n",
      "           0       0.64      0.47      0.54      1692\n",
      "           1       0.77      0.87      0.82      3404\n",
      "\n",
      "    accuracy                           0.74      5096\n",
      "   macro avg       0.70      0.67      0.68      5096\n",
      "weighted avg       0.73      0.74      0.72      5096\n",
      "\n"
     ]
    }
   ],
   "source": [
    "from sklearn.ensemble import AdaBoostClassifier, GradientBoostingClassifier\n",
    "\n",
    "# Initialize models\n",
    "ada_model = AdaBoostClassifier(n_estimators=50, random_state=42)\n",
    "gb_model = GradientBoostingClassifier(n_estimators=100, learning_rate=0.1, max_depth=3, random_state=42)\n",
    "\n",
    "# Fit both models\n",
    "ada_model.fit(X_train, y_train)\n",
    "gb_model.fit(X_train, y_train)\n",
    "\n",
    "# Evaluate both models\n",
    "evaluate_model(ada_model, \"AdaBoost\")\n",
    "evaluate_model(gb_model, \"Gradient Boosting\")\n"
   ]
  },
  {
   "cell_type": "markdown",
   "id": "447a926d-b2fc-4c83-9f27-1cc34ddaa22b",
   "metadata": {},
   "source": [
    "**Evaluation of Boosting Models**\n",
    "\n",
    "We trained two boosting models — AdaBoost and Gradient Boosting — and evaluated their performance using accuracy, precision, recall, and F1-score:\n",
    "\n",
    "| Model               | Accuracy | Precision | Recall | F1-Score |\n",
    "|--------------------|----------|-----------|--------|----------|\n",
    "| **AdaBoost**        | 0.7206   | 0.7495    | 0.8737 | 0.8068   |\n",
    "| **Gradient Boosting** | 0.7369   | 0.7669    | 0.8707 | 0.8155   |\n",
    "\n",
    "- **AdaBoost** achieved high recall (87.4%) and strong F1-score (0.8068), showing its strength in correctly identifying positive outcomes.\n",
    "- **Gradient Boosting** had the best overall performance in this group, with the highest F1-score (0.8155) and best accuracy (73.7%).\n"
   ]
  },
  {
   "cell_type": "markdown",
   "id": "67d8869b-2a36-46a5-9299-31c02977b75a",
   "metadata": {},
   "source": [
    "**Boosting vs Bagging — Model Comparison**\n",
    "\n",
    "| Model                 | Accuracy | Precision | Recall | F1-Score |\n",
    "|----------------------|----------|-----------|--------|----------|\n",
    "| **AdaBoost**          | 0.7206   | 0.7495    | 0.8737 | 0.8068   |\n",
    "| **Gradient Boosting** | 0.7369   | 0.7669    | 0.8707 | 0.8155   |\n",
    "| **Bagging Classifier**| 0.7121   | 0.7633    | 0.8249 | 0.7929   |\n",
    "| **Random Forest**     | 0.7190   | 0.7676    | 0.8308 | 0.7980   |\n",
    "\n",
    "### Insights:\n",
    "    \n",
    "- **Boosting outperformed bagging** in both accuracy and F1-score, especially with Gradient Boosting.\n",
    "- **Gradient Boosting** showed superior balance between precision and recall, indicating its robustness on imbalanced or complex data.\n",
    "- **AdaBoost** excelled in recall, making it ideal for applications where false negatives are costlier.\n",
    "- While **Random Forest** was strong, **Gradient Boosting** emerged as the best-performing model across all metrics.\n",
    "\n"
   ]
  },
  {
   "cell_type": "markdown",
   "id": "3dd4702d-fb28-4292-bda7-67910e4ffb3a",
   "metadata": {},
   "source": [
    "**Hyperparameter Tuning for AdaBoost & Gradient Boosting**"
   ]
  },
  {
   "cell_type": "code",
   "execution_count": 216,
   "id": "638359c2-4743-473c-b268-c49db31c17f2",
   "metadata": {},
   "outputs": [
    {
     "name": "stdout",
     "output_type": "stream",
     "text": [
      "Fitting 2 folds for each of 4 candidates, totalling 8 fits\n",
      "✅ Best AdaBoost Params: {'learning_rate': 0.5, 'n_estimators': 50}\n"
     ]
    }
   ],
   "source": [
    "#Adaboost tuning\n",
    "\n",
    "from sklearn.ensemble import AdaBoostClassifier\n",
    "from sklearn.model_selection import GridSearchCV\n",
    "\n",
    "ada_params = {\n",
    "    'n_estimators': [50, 100],\n",
    "    'learning_rate': [0.5, 1.0]\n",
    "}\n",
    "\n",
    "grid_ada = GridSearchCV(\n",
    "    estimator=AdaBoostClassifier(random_state=42),\n",
    "    param_grid=ada_params,\n",
    "    scoring='f1',\n",
    "    cv=2,\n",
    "    verbose=1\n",
    ")\n",
    "\n",
    "grid_ada.fit(X_train, y_train)\n",
    "print(\"✅ Best AdaBoost Params:\", grid_ada.best_params_)\n"
   ]
  },
  {
   "cell_type": "code",
   "execution_count": 218,
   "id": "fa668b1a-a0ae-44af-bf74-4e31d327d647",
   "metadata": {},
   "outputs": [
    {
     "name": "stdout",
     "output_type": "stream",
     "text": [
      "Fitting 2 folds for each of 4 candidates, totalling 8 fits\n",
      "✅ Best Gradient Boosting Params: {'learning_rate': 0.05, 'max_depth': 3, 'n_estimators': 100}\n"
     ]
    }
   ],
   "source": [
    "#Gradient Boosting Tuning:\n",
    "\n",
    "from sklearn.ensemble import GradientBoostingClassifier\n",
    "\n",
    "gb_params = {\n",
    "    'n_estimators': [100],\n",
    "    'learning_rate': [0.05, 0.1],\n",
    "    'max_depth': [3, 5]\n",
    "}\n",
    "\n",
    "grid_gb = GridSearchCV(\n",
    "    estimator=GradientBoostingClassifier(random_state=42),\n",
    "    param_grid=gb_params,\n",
    "    scoring='f1',\n",
    "    cv=2,\n",
    "    verbose=1\n",
    ")\n",
    "\n",
    "grid_gb.fit(X_train, y_train)\n",
    "print(\"✅ Best Gradient Boosting Params:\", grid_gb.best_params_)\n"
   ]
  },
  {
   "cell_type": "code",
   "execution_count": 220,
   "id": "fc7eb1ac-f5d4-460b-95ee-228737bd37d7",
   "metadata": {},
   "outputs": [
    {
     "name": "stdout",
     "output_type": "stream",
     "text": [
      "\n",
      "🔍 Evaluation Metrics for Tuned AdaBoost:\n",
      "Accuracy : 0.7217425431711146\n",
      "Precision: 0.7489969909729187\n",
      "Recall   : 0.877497062279671\n",
      "F1-Score : 0.8081709956709957\n",
      "Classification Report:\n",
      "               precision    recall  f1-score   support\n",
      "\n",
      "           0       0.62      0.41      0.49      1692\n",
      "           1       0.75      0.88      0.81      3404\n",
      "\n",
      "    accuracy                           0.72      5096\n",
      "   macro avg       0.69      0.64      0.65      5096\n",
      "weighted avg       0.71      0.72      0.70      5096\n",
      "\n",
      "\n",
      "🔍 Evaluation Metrics for Tuned Gradient Boosting:\n",
      "Accuracy : 0.7376373626373627\n",
      "Precision: 0.7664346481051817\n",
      "Recall   : 0.8733842538190364\n",
      "F1-Score : 0.8164218042015653\n",
      "Classification Report:\n",
      "               precision    recall  f1-score   support\n",
      "\n",
      "           0       0.65      0.46      0.54      1692\n",
      "           1       0.77      0.87      0.82      3404\n",
      "\n",
      "    accuracy                           0.74      5096\n",
      "   macro avg       0.71      0.67      0.68      5096\n",
      "weighted avg       0.73      0.74      0.72      5096\n",
      "\n"
     ]
    }
   ],
   "source": [
    "#Evaluate tuned model\n",
    "\n",
    "evaluate_model(grid_ada.best_estimator_, \"Tuned AdaBoost\")\n",
    "evaluate_model(grid_gb.best_estimator_, \"Tuned Gradient Boosting\")\n"
   ]
  },
  {
   "cell_type": "markdown",
   "id": "c09dc0b1-acb9-49c2-9122-e81dfdea85c2",
   "metadata": {},
   "source": [
    "**Tuning AdaBoost and Gradient Boosting**\n",
    "\n",
    "Best Parameters from Hyperparameter Tuning\n",
    "\n",
    "We used `GridSearchCV` (2-fold CV) to tune AdaBoost and Gradient Boosting classifiers.\n",
    "\n",
    "#### 🔹 Best AdaBoost Parameters:\n",
    "- `n_estimators`: 50  \n",
    "- `learning_rate`: 0.5\n",
    "\n",
    "#### 🔹 Best Gradient Boosting Parameters:\n",
    "- `n_estimators`: 100  \n",
    "- `learning_rate`: 0.05  \n",
    "- `max_depth`: 3\n"
   ]
  },
  {
   "cell_type": "markdown",
   "id": "af541a08-cfff-486b-8301-d69229800dc3",
   "metadata": {},
   "source": [
    "**Improvement Analysis Post Tuning**\n",
    "\n",
    "Performance Before and After Tuning\n",
    "\n",
    "| Model                 | Accuracy | Precision | Recall | F1-Score |\n",
    "|----------------------|----------|-----------|--------|----------|\n",
    "| **Untuned AdaBoost**         | 0.7206   | 0.7495    | 0.8737 | 0.8068   |\n",
    "| **Tuned AdaBoost**           | 0.7217   | 0.7490    | 0.8775 | 0.8082   |\n",
    "| **Untuned Gradient Boosting**| 0.7369   | 0.7669    | 0.8707 | 0.8155   |\n",
    "| **Tuned Gradient Boosting**  | 0.7376   | 0.7664    | 0.8734 | 0.8164   |\n",
    "\n",
    "### Insights:\n",
    "\n",
    "- **AdaBoost** showed a slight improvement in **recall** and **F1-score**, indicating better classification of positive (Certified) cases after tuning the learning rate.\n",
    "- **Gradient Boosting** had consistently strong performance, and tuning further boosted recall and F1-score marginally.\n",
    "- Both models showed **increased generalization** and **improved balance** between precision and recall after tuning.\n",
    "- Gradient Boosting remained the best-performing model overall, achieving the **highest F1-score (0.8164)** and accuracy (0.7376).\n",
    "\n",
    "### ✅ Conclusion:\n",
    "Hyperparameter tuning had a **positive impact** on boosting models, improving their ability to make accurate and reliable predictions without overfitting.\n"
   ]
  },
  {
   "cell_type": "code",
   "execution_count": 229,
   "id": "78bd1afa-7143-4e6c-b006-4c8aad45cdb5",
   "metadata": {},
   "outputs": [
    {
     "data": {
      "image/png": "[encoded data removed]",
      "text/plain": [
       "<Figure size 800x400 with 1 Axes>"
      ]
     },
     "metadata": {},
     "output_type": "display_data"
    }
   ],
   "source": [
    "#Feature Importance & Complex Pattern Capture \n",
    "\n",
    "#### 🔹 Feature Importance (Gradient Boosting Example)\n",
    "\n",
    "import matplotlib.pyplot as plt\n",
    "import pandas as pd\n",
    "import seaborn as sns\n",
    "\n",
    "# Get feature importances\n",
    "feature_importances = pd.Series(\n",
    "    grid_gb.best_estimator_.feature_importances_,\n",
    "    index=X_train.columns\n",
    ").sort_values(ascending=False)\n",
    "\n",
    "# Plot\n",
    "plt.figure(figsize=(8, 4))\n",
    "sns.barplot(x=feature_importances.head(10), y=feature_importances.head(10).index)\n",
    "plt.title(\"Top 10 Feature Importances - Gradient Boosting\")\n",
    "plt.xlabel(\"Importance Score\")\n",
    "plt.ylabel(\"Feature\")\n",
    "plt.tight_layout()\n",
    "plt.show()\n"
   ]
  },
  {
   "cell_type": "markdown",
   "id": "cd8f4e20-148c-418b-b571-1298c0b34e86",
   "metadata": {},
   "source": [
    "**Feature Importance and Boosting Model Insights**\n",
    "\n",
    "### Interpret Feature Importance and How Boosting Captures Complex Patterns\n",
    "\n",
    "#### 🔹 Feature Importance (from Gradient Boosting)\n",
    "\n",
    "The top features influencing visa case approval were:\n",
    "\n",
    "- **education_of_employee_High School** (most influential)\n",
    "- **has_job_experience_Y**\n",
    "- **adjusted_wage**\n",
    "- **education_of_employee_Master's** and **Doctorate**\n",
    "- **continent_Europe** and some regional employment zones\n",
    "\n",
    "This shows that **education level**, **prior experience**, and **offered wage** significantly affect visa approval decisions — consistent with real-world expectations.\n",
    "\n",
    "#### 🔍 How Boosting Captures Complex Patterns\n",
    "\n",
    "Boosting models like **AdaBoost** and **Gradient Boosting** learn in a sequential manner:\n",
    "- Each model focuses on **correcting the errors** of the previous one.\n",
    "- This allows them to capture **nonlinear relationships**, handle **imbalanced data**, and identify **subtle interactions** between variables.\n",
    "- Boosting is especially effective when **simple models (weak learners)** struggle to model complex boundaries alone.\n",
    "\n",
    "### Conclusion:\n",
    "\n",
    "Boosting not only improves accuracy but also uncovers the most important drivers of visa decisions while adapting to complex, real-world patterns in the data.\n",
    "\n"
   ]
  },
  {
   "cell_type": "markdown",
   "id": "cf8f4cd1-5d00-43c9-8408-c2204d1ed99b",
   "metadata": {},
   "source": [
    "**Actionable Insights for Stakeholders**"
   ]
  },
  {
   "cell_type": "markdown",
   "id": "811596d6-3679-42ff-a6f5-f6f80effe369",
   "metadata": {},
   "source": [
    "Based on the full machine learning analysis of visa case approvals, here are three actionable insights for EasyVisa:\n",
    "\n",
    "1. **Education Strongly Influences Approval**  \n",
    "   Applicants with higher education levels (especially High School and Master’s) show higher approval likelihood. EasyVisa should prioritize and guide clients toward documenting their academic credentials effectively.\n",
    "\n",
    "2. **Job Experience and Wage Offer Matter**  \n",
    "   Candidates with prior job experience and higher prevailing wages had significantly better approval outcomes. Advising employers to offer competitive salaries and emphasizing applicant experience can improve case success rates.\n",
    "\n",
    "3. **Geographic and Regional Trends Exist**  \n",
    "   The region of employment (e.g., Midwest vs. South) slightly affects outcomes. EasyVisa could use this insight to suggest optimal job locations or anticipate approval likelihood based on geographic patterns.\n",
    "\n",
    "These insights enable EasyVisa to improve applicant profiling, employer partnerships, and resource allocation strategies.\n"
   ]
  },
  {
   "cell_type": "markdown",
   "id": "15dd9f3c-9338-4364-827b-f19e728596dd",
   "metadata": {},
   "source": [
    "<span style=\"font-size:20px\">**Final Model Recommendation and Justification**</span>\n",
    "\n",
    "### Final Model Selection and Practical Use\n",
    "\n",
    "#### ✅ Selected Model: **Gradient Boosting Classifier**\n",
    "\n",
    "### 🔍 Why Gradient Boosting?\n",
    "Based on all evaluation metrics (Accuracy, Precision, Recall, F1-Score), the **tuned Gradient Boosting model** outperformed others:\n",
    "\n",
    "| Model                 | Accuracy | Precision | Recall | F1-Score |\n",
    "|----------------------|----------|-----------|--------|----------|\n",
    "| Gradient Boosting (Tuned) | 0.7376   | 0.7664    | 0.8734 | **0.8164** |\n",
    "| AdaBoost (Tuned)     | 0.7217   | 0.7490    | 0.8775 | 0.8082   |\n",
    "| Random Forest        | 0.7190   | 0.7676    | 0.8308 | 0.7980   |\n",
    "\n",
    "- **Highest F1-Score**: Balanced precision and recall\n",
    "- **Strong Generalization**: Effective even with complex patterns\n",
    "- **Interpretable**: Feature importance helps guide visa advisory strategies\n",
    "\n",
    "\n",
    "###  How EasyVisa Can Use This Model:\n",
    "\n",
    "1. **Approval Probability Prediction**  \n",
    "   Predict the likelihood of visa approval before submission, improving client confidence and document readiness.\n",
    "\n",
    "2. **Client Screening & Prioritization**  \n",
    "   Automatically flag high-potential applicants based on their profile (education, wage, experience).\n",
    "\n",
    "3. **Employer Advisory**  \n",
    "   Recommend wage adjustments or preferred regions to improve success rates based on model output.\n",
    "\n",
    "### ✅ Conclusion:\n",
    "The Gradient Boosting model is both accurate and business-aligned, making it an ideal decision support tool for EasyVisa to scale smarter, faster, and fairer visa application services.\n"
   ]
  },
  {
   "cell_type": "code",
   "execution_count": null,
   "id": "d864d5c1-a8b7-4175-9b69-84f9f3df50e0",
   "metadata": {},
   "outputs": [],
   "source": []
  }
 ],
 "metadata": {
  "kernelspec": {
   "display_name": "Python [conda env:base] *",
   "language": "python",
   "name": "conda-base-py"
  },
  "language_info": {
   "codemirror_mode": {
    "name": "ipython",
    "version": 3
   },
   "file_extension": ".py",
   "mimetype": "text/x-python",
   "name": "python",
   "nbconvert_exporter": "python",
   "pygments_lexer": "ipython3",
   "version": "3.12.7"
  }
 },
 "nbformat": 4,
 "nbformat_minor": 5
}
